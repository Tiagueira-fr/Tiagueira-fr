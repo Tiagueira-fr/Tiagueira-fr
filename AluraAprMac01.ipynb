{
  "nbformat": 4,
  "nbformat_minor": 0,
  "metadata": {
    "colab": {
      "name": "AluraAprMac01.ipynb",
      "provenance": [],
      "collapsed_sections": [],
      "authorship_tag": "ABX9TyN4XTfTVipswafCoVovyu8w",
      "include_colab_link": true
    },
    "kernelspec": {
      "name": "python3",
      "display_name": "Python 3"
    },
    "language_info": {
      "name": "python"
    }
  },
  "cells": [
    {
      "cell_type": "markdown",
      "metadata": {
        "id": "view-in-github",
        "colab_type": "text"
      },
      "source": [
        "<a href=\"https://colab.research.google.com/github/Tiagueira-fr/Tiagueira-fr/blob/main/AluraAprMac01.ipynb\" target=\"_parent\"><img src=\"https://colab.research.google.com/assets/colab-badge.svg\" alt=\"Open In Colab\"/></a>"
      ]
    },
    {
      "cell_type": "markdown",
      "source": [
        "Definindo as atribuiçoes que destinguem porcos de cachorros"
      ],
      "metadata": {
        "id": "DEW_zgWZkeLN"
      }
    },
    {
      "cell_type": "code",
      "execution_count": 6,
      "metadata": {
        "id": "I93wf7LThDLV"
      },
      "outputs": [],
      "source": [
        "# features ( 1 sim, 0 não)\n",
        "# pelo longo?\n",
        "# perna curta?\n",
        "# faz auau?\n",
        "\n",
        "porco1 = [0, 1, 0]\n",
        "porco2 = [0, 1, 1]\n",
        "porco3 = [1, 1, 0]\n",
        "\n",
        "cachorro1 = [0, 1, 1]\n",
        "cachorro2 = [1, 0, 1]\n",
        "cachorro3 = [1, 1, 1]\n",
        "\n",
        "# 1 => porco , 0 => cachorro\n",
        "dados = [ porco1, porco2, porco3, cachorro1, cachorro2, cachorro3]\n",
        "classes = [1, 1, 1, 0, 0, 0]\n"
      ]
    },
    {
      "cell_type": "markdown",
      "source": [
        "Importando a plataforma Sklearn e definindo os farametros do modelo como \"dados\" e \"classes\"."
      ],
      "metadata": {
        "id": "uRDbh09GkK9O"
      }
    },
    {
      "cell_type": "code",
      "source": [
        "from sklearn.svm import LinearSVC\n",
        "\n",
        "model = LinearSVC ()\n",
        "model.fit(dados, classes)"
      ],
      "metadata": {
        "colab": {
          "base_uri": "https://localhost:8080/"
        },
        "id": "q1tzTPrvjSnR",
        "outputId": "e3b242d3-70a0-4d5e-b83a-7369c81465d1"
      },
      "execution_count": 7,
      "outputs": [
        {
          "output_type": "execute_result",
          "data": {
            "text/plain": [
              "LinearSVC()"
            ]
          },
          "metadata": {},
          "execution_count": 7
        }
      ]
    },
    {
      "cell_type": "code",
      "source": [
        "animal_misterioso = [1, 1, 1]\n",
        "model.predict([animal_misterioso])"
      ],
      "metadata": {
        "colab": {
          "base_uri": "https://localhost:8080/"
        },
        "id": "bUdWXphnlfOv",
        "outputId": "e4c03733-c3af-4d10-b7ac-6ef4c7741057"
      },
      "execution_count": 8,
      "outputs": [
        {
          "output_type": "execute_result",
          "data": {
            "text/plain": [
              "array([0])"
            ]
          },
          "metadata": {},
          "execution_count": 8
        }
      ]
    },
    {
      "cell_type": "code",
      "source": [
        "misterio1 = [1, 1, 1]\n",
        "misterio2 = [1, 1, 0]\n",
        "misterio3 = [0, 1, 1]\n",
        "\n",
        "teste = [misterio1, misterio2, misterio3]\n",
        "previsoes = model.predict(teste)"
      ],
      "metadata": {
        "id": "pZiqDW4DmTQb"
      },
      "execution_count": 9,
      "outputs": []
    },
    {
      "cell_type": "code",
      "source": [
        "testes_classes = [0, 1, 1]"
      ],
      "metadata": {
        "id": "tUPQmakKnM5-"
      },
      "execution_count": 10,
      "outputs": []
    },
    {
      "cell_type": "markdown",
      "source": [
        "Agora temos o codigo dissecado parte a parte para somar quantas previsoes corretas foram feitas"
      ],
      "metadata": {
        "id": "8_LCbIsgGHpo"
      }
    },
    {
      "cell_type": "code",
      "source": [
        "previsoes == testes_classes"
      ],
      "metadata": {
        "colab": {
          "base_uri": "https://localhost:8080/"
        },
        "id": "Uq7p1TY0n4ff",
        "outputId": "e5c28612-e209-49d3-d449-43131a29b061"
      },
      "execution_count": 11,
      "outputs": [
        {
          "output_type": "execute_result",
          "data": {
            "text/plain": [
              "array([ True,  True, False])"
            ]
          },
          "metadata": {},
          "execution_count": 11
        }
      ]
    },
    {
      "cell_type": "markdown",
      "source": [
        "\".sum\" é uma função para soma"
      ],
      "metadata": {
        "id": "F20zsJoKGWXT"
      }
    },
    {
      "cell_type": "code",
      "source": [
        "(previsoes == testes_classes).sum()"
      ],
      "metadata": {
        "colab": {
          "base_uri": "https://localhost:8080/"
        },
        "id": "zRamTgg2n73O",
        "outputId": "2a4c01d2-e34d-4661-d030-5ac9774c98cf"
      },
      "execution_count": 12,
      "outputs": [
        {
          "output_type": "execute_result",
          "data": {
            "text/plain": [
              "2"
            ]
          },
          "metadata": {},
          "execution_count": 12
        }
      ]
    },
    {
      "cell_type": "markdown",
      "source": [
        "Atribuimos a soma a uma variavel. \"corretos\""
      ],
      "metadata": {
        "id": "Ank24cZtGbVA"
      }
    },
    {
      "cell_type": "code",
      "source": [
        "corretos = (previsoes == testes_classes).sum()"
      ],
      "metadata": {
        "id": "bVgKuHTYFUQ4"
      },
      "execution_count": 13,
      "outputs": []
    },
    {
      "cell_type": "markdown",
      "source": [
        "temos agora uma determinação da taxa de acertos. Multiplicamos por cem para que tenhamos a porcentagem ao inves do valor padrao, decimal."
      ],
      "metadata": {
        "id": "85xP81NOG9_u"
      }
    },
    {
      "cell_type": "code",
      "source": [
        "corretos = (previsoes == testes_classes).sum()\n",
        "total = len(teste)\n",
        "taxa_de_acertos = corretos/total\n",
        "print(\"Taxa de acerto: \", taxa_de_acertos*100)"
      ],
      "metadata": {
        "colab": {
          "base_uri": "https://localhost:8080/"
        },
        "id": "lhnuuZqaGBvQ",
        "outputId": "e2a346f5-4dc8-4892-99fe-ca346a1cb51e"
      },
      "execution_count": 15,
      "outputs": [
        {
          "output_type": "stream",
          "name": "stdout",
          "text": [
            "Taxa de acerto:  66.66666666666666\n"
          ]
        }
      ]
    },
    {
      "cell_type": "markdown",
      "source": [
        "Biblioteca ja pronta para medir a taxa de acertos. \n",
        "Deve se usar primeiro os valores verdadeiros depois os valores previstos\n",
        "\n",
        "*   (accuracy_score(val verdad, val prev)"
      ],
      "metadata": {
        "id": "5sMFULrRIANu"
      }
    },
    {
      "cell_type": "code",
      "source": [
        "from sklearn.metrics import accuracy_score\n",
        "\n",
        "taxa_de_acertos = accuracy_score(testes_classes, previsoes)\n",
        "print(\"Taxa de acertos: \", taxa_de_acertos * 100) "
      ],
      "metadata": {
        "colab": {
          "base_uri": "https://localhost:8080/"
        },
        "id": "t_lYW2tsHbZS",
        "outputId": "eb6c1ee0-f5c4-4f0e-d045-6244fb5c0ed1"
      },
      "execution_count": 17,
      "outputs": [
        {
          "output_type": "stream",
          "name": "stdout",
          "text": [
            "Taxa de acertos:  66.66666666666666\n"
          ]
        }
      ]
    }
  ]
}