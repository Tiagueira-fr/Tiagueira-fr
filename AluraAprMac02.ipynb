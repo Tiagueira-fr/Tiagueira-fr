{
  "cells": [
    {
      "cell_type": "markdown",
      "metadata": {
        "id": "view-in-github",
        "colab_type": "text"
      },
      "source": [
        "<a href=\"https://colab.research.google.com/github/Tiagueira-fr/Tiagueira-fr/blob/main/AluraAprMac02.ipynb\" target=\"_parent\"><img src=\"https://colab.research.google.com/assets/colab-badge.svg\" alt=\"Open In Colab\"/></a>"
      ]
    },
    {
      "cell_type": "markdown",
      "metadata": {
        "id": "j4aa9cy2nD84"
      },
      "source": [
        "Definindo as matrizes de dados e buscando os dados nos repositorios"
      ]
    },
    {
      "cell_type": "markdown",
      "metadata": {
        "id": "_3OSiuc9nD87"
      },
      "source": [
        "Aqui definimos a biblioteca pandas como pd\n",
        "definimos tambem a fonte de dados que a maquina usara para analisar. Esse é um arquivo csv n internet então importamos o arquivo por sua url e definimos que os dados sao uma \"uri\""
      ]
    },
    {
      "cell_type": "code",
      "execution_count": 1,
      "metadata": {
        "colab": {
          "base_uri": "https://localhost:8080/"
        },
        "id": "-SGLVCn5nD87",
        "outputId": "6c300e00-3371-49cc-9e88-84dd455f910a"
      },
      "outputs": [
        {
          "output_type": "execute_result",
          "data": {
            "text/plain": [
              "<bound method NDFrame.head of     home  how_it_works  contact  bought\n",
              "0      1             1        0       0\n",
              "1      1             1        0       0\n",
              "2      1             1        0       0\n",
              "3      1             1        0       0\n",
              "4      1             1        0       0\n",
              "..   ...           ...      ...     ...\n",
              "94     0             0        1       0\n",
              "95     1             1        1       1\n",
              "96     0             0        1       0\n",
              "97     0             1        0       0\n",
              "98     0             0        0       0\n",
              "\n",
              "[99 rows x 4 columns]>"
            ]
          },
          "metadata": {},
          "execution_count": 1
        }
      ],
      "source": [
        "import pandas as pd\n",
        "uri = \"https://gist.githubusercontent.com/guilhermesilveira/2d2efa37d66b6c84a722ea627a897ced/raw/10968b997d885cbded1c92938c7a9912ba41c615/tracking.csv\"\n",
        "\n",
        "dados = pd.read_csv ( uri )\n",
        "dados.head"
      ]
    },
    {
      "cell_type": "markdown",
      "metadata": {
        "id": "8o3hcAh1nD89"
      },
      "source": [
        "Aqui renomeamos as colunas do ingles para o portugues, de modo que seja mais intuitivo"
      ]
    },
    {
      "cell_type": "code",
      "execution_count": 2,
      "metadata": {
        "colab": {
          "base_uri": "https://localhost:8080/"
        },
        "id": "l3RvsVDPnD89",
        "outputId": "5b52d0c1-eb73-4026-e4a2-dc55013361fc"
      },
      "outputs": [
        {
          "output_type": "stream",
          "name": "stdout",
          "text": [
            "    Principal  Funcionamento  Contato  Compra\n",
            "0           1              1        0       0\n",
            "1           1              1        0       0\n",
            "2           1              1        0       0\n",
            "3           1              1        0       0\n",
            "4           1              1        0       0\n",
            "..        ...            ...      ...     ...\n",
            "94          0              0        1       0\n",
            "95          1              1        1       1\n",
            "96          0              0        1       0\n",
            "97          0              1        0       0\n",
            "98          0              0        0       0\n",
            "\n",
            "[99 rows x 4 columns]\n"
          ]
        }
      ],
      "source": [
        "mapa = {\n",
        "    \"home\" : \"Principal\", \n",
        "    \"how_it_works\" : \"Funcionamento\",\n",
        "    \"contact\" : \"Contato\",\n",
        "    \"bought\" : \"Compra\" \n",
        "}\n",
        "dados = dados.rename(columns= mapa )\n",
        "print (dados)"
      ]
    },
    {
      "cell_type": "markdown",
      "metadata": {
        "id": "pqtzGiNhnD89"
      },
      "source": [
        "Aqui definomos os vetores x e y que usaremos para cruzar os dados para a analize.\n",
        "definimos uma lista e a nomeamos como tal."
      ]
    },
    {
      "cell_type": "code",
      "execution_count": 3,
      "metadata": {
        "colab": {
          "base_uri": "https://localhost:8080/"
        },
        "id": "mFfzHWwnnD8-",
        "outputId": "4fc4c0e3-06d9-422c-bc1a-f82b4c393093"
      },
      "outputs": [
        {
          "output_type": "stream",
          "name": "stdout",
          "text": [
            "0     0\n",
            "1     0\n",
            "2     0\n",
            "3     0\n",
            "4     0\n",
            "     ..\n",
            "94    0\n",
            "95    1\n",
            "96    0\n",
            "97    0\n",
            "98    0\n",
            "Name: Compra, Length: 99, dtype: int64\n"
          ]
        }
      ],
      "source": [
        "x = dados [[\"Principal\", \"Funcionamento\", \"Contato\"]]\n",
        "y = dados [\"Compra\"]\n",
        "print (y)"
      ]
    },
    {
      "cell_type": "code",
      "execution_count": 4,
      "metadata": {
        "colab": {
          "base_uri": "https://localhost:8080/"
        },
        "id": "J3JfkI5JnD8-",
        "outputId": "db932b5b-4211-434b-aa32-d1f637d919df"
      },
      "outputs": [
        {
          "output_type": "execute_result",
          "data": {
            "text/plain": [
              "<bound method NDFrame.head of 0     0\n",
              "1     0\n",
              "2     0\n",
              "3     0\n",
              "4     0\n",
              "     ..\n",
              "94    0\n",
              "95    1\n",
              "96    0\n",
              "97    0\n",
              "98    0\n",
              "Name: Compra, Length: 99, dtype: int64>"
            ]
          },
          "metadata": {},
          "execution_count": 4
        }
      ],
      "source": [
        "y = dados[\"Compra\"]\n",
        "y.head"
      ]
    },
    {
      "cell_type": "markdown",
      "metadata": {
        "id": "3jpguOSQnD8-"
      },
      "source": [
        "dados.shape faz a verificação de quantos elementos temos nos dados e o formato deles"
      ]
    },
    {
      "cell_type": "code",
      "execution_count": null,
      "metadata": {
        "id": "KLXAOn0MnD8-",
        "outputId": "bca119a2-70e0-4e7f-f11b-f4762049ebbe"
      },
      "outputs": [
        {
          "data": {
            "text/plain": [
              "(99, 4)"
            ]
          },
          "execution_count": 5,
          "metadata": {},
          "output_type": "execute_result"
        }
      ],
      "source": [
        "dados.shape"
      ]
    },
    {
      "cell_type": "markdown",
      "metadata": {
        "id": "uuQ7eTibnD8_"
      },
      "source": [
        "Apos saber quantos dados e o formato deles separaremos em média 25% para testar o algorítimo, e o restante (cerca de 75% dos dados) para o treinamento. Portanto, para treino_x, coletaremos os primeiros 75 elementos (treino_x = x[:75]). Podemos utilizar treino_x.shape para verificar se o número de elementos está de fato correto:"
      ]
    },
    {
      "cell_type": "code",
      "execution_count": 5,
      "metadata": {
        "colab": {
          "base_uri": "https://localhost:8080/"
        },
        "id": "QjmOFfWynD8_",
        "outputId": "bcde5f73-3b13-48d5-de66-ed05f534e006"
      },
      "outputs": [
        {
          "output_type": "stream",
          "name": "stdout",
          "text": [
            "Treino com 75 elementos e teste com 24 elementos\n"
          ]
        }
      ],
      "source": [
        "treino_x = x [ :75 ]\n",
        "treino_y = y [ :75 ]\n",
        "\n",
        "teste_x = x [ 75: ]\n",
        "teste_y = y [ 75: ]\n",
        "\n",
        "print (\"Treino com %d elementos e teste com %d elementos\" % ( len(treino_x), len(teste_x)))\n",
        "\n"
      ]
    },
    {
      "cell_type": "markdown",
      "metadata": {
        "id": "cXQ9L_fqnD8_"
      },
      "source": [
        "Inicio do treino do modelo"
      ]
    },
    {
      "cell_type": "markdown",
      "metadata": {
        "id": "5ASWNsvOnD8_"
      },
      "source": [
        "Aqui importamos o LinearSVC do sklearn.svm e treinaremos o modelo com os dados treino_x e treino_y\n",
        "\n",
        "Em seguida, compararemos as previsões com teste_y. Para isso, usaremos o accuracy_score, passando como argumentos teste_y e as previsoes"
      ]
    },
    {
      "cell_type": "code",
      "execution_count": 13,
      "metadata": {
        "colab": {
          "base_uri": "https://localhost:8080/"
        },
        "id": "IvWsVRPPnD9A",
        "outputId": "b98dd979-1520-44c4-82be-e0e04d9c4d99"
      },
      "outputs": [
        {
          "output_type": "stream",
          "name": "stdout",
          "text": [
            "A acurácia foi 95.83%\n"
          ]
        }
      ],
      "source": [
        "from sklearn.svm import LinearSVC\n",
        "from sklearn.metrics import accuracy_score\n",
        "modelo = LinearSVC()\n",
        "modelo.fit( treino_x, treino_y )\n",
        "\n",
        "previsoes = modelo.predict ( teste_x )\n",
        "acuracia = accuracy_score (teste_y, previsoes) * 100\n",
        "print(\"A acurácia foi %.2f%%\" % acuracia)\n"
      ]
    }
  ],
  "metadata": {
    "interpreter": {
      "hash": "bf3288ed2828b036a6ff4392f25b55c2f5c8bcbe78b3cbd29a21ec407b552697"
    },
    "kernelspec": {
      "display_name": "Python 3.9.5 64-bit",
      "language": "python",
      "name": "python3"
    },
    "language_info": {
      "codemirror_mode": {
        "name": "ipython",
        "version": 3
      },
      "file_extension": ".py",
      "mimetype": "text/x-python",
      "name": "python",
      "nbconvert_exporter": "python",
      "pygments_lexer": "ipython3",
      "version": "3.10.2"
    },
    "orig_nbformat": 4,
    "colab": {
      "name": "AluraAprMac02.ipynb",
      "provenance": [],
      "include_colab_link": true
    }
  },
  "nbformat": 4,
  "nbformat_minor": 0
}