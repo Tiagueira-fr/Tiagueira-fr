{
  "cells": [
    {
      "cell_type": "markdown",
      "metadata": {
        "id": "view-in-github",
        "colab_type": "text"
      },
      "source": [
        "<a href=\"https://colab.research.google.com/github/Tiagueira-fr/Tiagueira-fr/blob/main/AluraAprMac02.ipynb\" target=\"_parent\"><img src=\"https://colab.research.google.com/assets/colab-badge.svg\" alt=\"Open In Colab\"/></a>"
      ]
    },
    {
      "cell_type": "markdown",
      "metadata": {
        "id": "j4aa9cy2nD84"
      },
      "source": [
        "#Definindo as matrizes de dados e buscando os dados nos repositorios"
      ]
    },
    {
      "cell_type": "markdown",
      "metadata": {
        "id": "_3OSiuc9nD87"
      },
      "source": [
        "Aqui definimos a biblioteca pandas como pd\n",
        "definimos tambem a fonte de dados que a maquina usara para analisar. Esse é um arquivo csv n internet então importamos o arquivo por sua url e definimos que os dados sao uma \"uri\""
      ]
    },
    {
      "cell_type": "code",
      "execution_count": 1,
      "metadata": {
        "colab": {
          "base_uri": "https://localhost:8080/"
        },
        "id": "-SGLVCn5nD87",
        "outputId": "6c300e00-3371-49cc-9e88-84dd455f910a"
      },
      "outputs": [
        {
          "output_type": "execute_result",
          "data": {
            "text/plain": [
              "<bound method NDFrame.head of     home  how_it_works  contact  bought\n",
              "0      1             1        0       0\n",
              "1      1             1        0       0\n",
              "2      1             1        0       0\n",
              "3      1             1        0       0\n",
              "4      1             1        0       0\n",
              "..   ...           ...      ...     ...\n",
              "94     0             0        1       0\n",
              "95     1             1        1       1\n",
              "96     0             0        1       0\n",
              "97     0             1        0       0\n",
              "98     0             0        0       0\n",
              "\n",
              "[99 rows x 4 columns]>"
            ]
          },
          "metadata": {},
          "execution_count": 1
        }
      ],
      "source": [
        "import pandas as pd\n",
        "uri = \"https://gist.githubusercontent.com/guilhermesilveira/2d2efa37d66b6c84a722ea627a897ced/raw/10968b997d885cbded1c92938c7a9912ba41c615/tracking.csv\"\n",
        "\n",
        "dados = pd.read_csv ( uri )\n",
        "dados.head"
      ]
    },
    {
      "cell_type": "markdown",
      "metadata": {
        "id": "8o3hcAh1nD89"
      },
      "source": [
        "Aqui renomeamos as colunas do ingles para o portugues, de modo que seja mais intuitivo"
      ]
    },
    {
      "cell_type": "code",
      "execution_count": 2,
      "metadata": {
        "colab": {
          "base_uri": "https://localhost:8080/"
        },
        "id": "l3RvsVDPnD89",
        "outputId": "5b52d0c1-eb73-4026-e4a2-dc55013361fc"
      },
      "outputs": [
        {
          "output_type": "stream",
          "name": "stdout",
          "text": [
            "    Principal  Funcionamento  Contato  Compra\n",
            "0           1              1        0       0\n",
            "1           1              1        0       0\n",
            "2           1              1        0       0\n",
            "3           1              1        0       0\n",
            "4           1              1        0       0\n",
            "..        ...            ...      ...     ...\n",
            "94          0              0        1       0\n",
            "95          1              1        1       1\n",
            "96          0              0        1       0\n",
            "97          0              1        0       0\n",
            "98          0              0        0       0\n",
            "\n",
            "[99 rows x 4 columns]\n"
          ]
        }
      ],
      "source": [
        "mapa = {\n",
        "    \"home\" : \"Principal\", \n",
        "    \"how_it_works\" : \"Funcionamento\",\n",
        "    \"contact\" : \"Contato\",\n",
        "    \"bought\" : \"Compra\" \n",
        "}\n",
        "dados = dados.rename(columns= mapa )\n",
        "print (dados)"
      ]
    },
    {
      "cell_type": "markdown",
      "metadata": {
        "id": "pqtzGiNhnD89"
      },
      "source": [
        "Aqui definomos os vetores x e y que usaremos para cruzar os dados para a analize.\n",
        "definimos uma lista e a nomeamos como tal."
      ]
    },
    {
      "cell_type": "code",
      "execution_count": 3,
      "metadata": {
        "colab": {
          "base_uri": "https://localhost:8080/"
        },
        "id": "mFfzHWwnnD8-",
        "outputId": "4fc4c0e3-06d9-422c-bc1a-f82b4c393093"
      },
      "outputs": [
        {
          "output_type": "stream",
          "name": "stdout",
          "text": [
            "0     0\n",
            "1     0\n",
            "2     0\n",
            "3     0\n",
            "4     0\n",
            "     ..\n",
            "94    0\n",
            "95    1\n",
            "96    0\n",
            "97    0\n",
            "98    0\n",
            "Name: Compra, Length: 99, dtype: int64\n"
          ]
        }
      ],
      "source": [
        "x = dados [[\"Principal\", \"Funcionamento\", \"Contato\"]]\n",
        "y = dados [\"Compra\"]\n",
        "print (y)"
      ]
    },
    {
      "cell_type": "code",
      "execution_count": 4,
      "metadata": {
        "colab": {
          "base_uri": "https://localhost:8080/"
        },
        "id": "J3JfkI5JnD8-",
        "outputId": "db932b5b-4211-434b-aa32-d1f637d919df"
      },
      "outputs": [
        {
          "output_type": "execute_result",
          "data": {
            "text/plain": [
              "<bound method NDFrame.head of 0     0\n",
              "1     0\n",
              "2     0\n",
              "3     0\n",
              "4     0\n",
              "     ..\n",
              "94    0\n",
              "95    1\n",
              "96    0\n",
              "97    0\n",
              "98    0\n",
              "Name: Compra, Length: 99, dtype: int64>"
            ]
          },
          "metadata": {},
          "execution_count": 4
        }
      ],
      "source": [
        "y = dados[\"Compra\"]\n",
        "y.head"
      ]
    },
    {
      "cell_type": "markdown",
      "metadata": {
        "id": "3jpguOSQnD8-"
      },
      "source": [
        "dados.shape faz a verificação de quantos elementos temos nos dados e o formato deles"
      ]
    },
    {
      "cell_type": "code",
      "execution_count": null,
      "metadata": {
        "id": "KLXAOn0MnD8-",
        "outputId": "bca119a2-70e0-4e7f-f11b-f4762049ebbe"
      },
      "outputs": [
        {
          "data": {
            "text/plain": [
              "(99, 4)"
            ]
          },
          "execution_count": 5,
          "metadata": {},
          "output_type": "execute_result"
        }
      ],
      "source": [
        "dados.shape"
      ]
    },
    {
      "cell_type": "markdown",
      "metadata": {
        "id": "uuQ7eTibnD8_"
      },
      "source": [
        "Apos saber quantos dados e o formato deles separaremos em média 25% para testar o algorítimo, e o restante (cerca de 75% dos dados) para o treinamento. Portanto, para treino_x, coletaremos os primeiros 75 elementos (treino_x = x[:75]). Podemos utilizar treino_x.shape para verificar se o número de elementos está de fato correto:"
      ]
    },
    {
      "cell_type": "code",
      "execution_count": 5,
      "metadata": {
        "colab": {
          "base_uri": "https://localhost:8080/"
        },
        "id": "QjmOFfWynD8_",
        "outputId": "bcde5f73-3b13-48d5-de66-ed05f534e006"
      },
      "outputs": [
        {
          "output_type": "stream",
          "name": "stdout",
          "text": [
            "Treino com 75 elementos e teste com 24 elementos\n"
          ]
        }
      ],
      "source": [
        "treino_x = x [ :75 ]\n",
        "treino_y = y [ :75 ]\n",
        "\n",
        "teste_x = x [ 75: ]\n",
        "teste_y = y [ 75: ]\n",
        "\n",
        "print (\"Treino com %d elementos e teste com %d elementos\" % ( len(treino_x), len(teste_x)))\n",
        "\n"
      ]
    },
    {
      "cell_type": "markdown",
      "metadata": {
        "id": "cXQ9L_fqnD8_"
      },
      "source": [
        "#Inicio do treino do modelo"
      ]
    },
    {
      "cell_type": "markdown",
      "metadata": {
        "id": "5ASWNsvOnD8_"
      },
      "source": [
        "Aqui importamos o LinearSVC do sklearn.svm e treinaremos o modelo com os dados treino_x e treino_y\n",
        "\n",
        "Em seguida, compararemos as previsões com teste_y. Para isso, usaremos o accuracy_score, passando como argumentos teste_y e as previsoes"
      ]
    },
    {
      "cell_type": "code",
      "execution_count": 13,
      "metadata": {
        "colab": {
          "base_uri": "https://localhost:8080/"
        },
        "id": "IvWsVRPPnD9A",
        "outputId": "b98dd979-1520-44c4-82be-e0e04d9c4d99"
      },
      "outputs": [
        {
          "output_type": "stream",
          "name": "stdout",
          "text": [
            "A acurácia foi 95.83%\n"
          ]
        }
      ],
      "source": [
        "from sklearn.svm import LinearSVC\n",
        "from sklearn.metrics import accuracy_score\n",
        "modelo = LinearSVC()\n",
        "modelo.fit( treino_x, treino_y )\n",
        "\n",
        "previsoes = modelo.predict ( teste_x )\n",
        "acuracia = accuracy_score (teste_y, previsoes) * 100\n",
        "print(\"A acurácia foi %.2f%%\" % acuracia)\n"
      ]
    },
    {
      "cell_type": "markdown",
      "source": [
        "Usando uma biblioteca para separar o treino e o teste"
      ],
      "metadata": {
        "id": "FcfOHLlSwcj3"
      }
    },
    {
      "cell_type": "markdown",
      "source": [
        "Precisaremos definir um número inicial para os algorítimos de geração de números aleatórios. Esse número inicial é chamado SEED, e nesse caso usaremos o número 20. Em seguida, definiremos para o train_test_split o uso do random_state = SEED"
      ],
      "metadata": {
        "id": "r4h9arGxz3wS"
      }
    },
    {
      "cell_type": "code",
      "source": [
        "from sklearn.model_selection import train_test_split\n",
        "from sklearn.svm import LinearSVC\n",
        "from sklearn.metrics import accuracy_score\n",
        "\n",
        "SEED = 20\n",
        "\n",
        "treino_x, teste_x, treino_y, teste_y = train_test_split(x, y,\n",
        "                                                         random_state = SEED, test_size = 0.25,\n",
        "                                                         stratify = y)\n",
        "print(\"Treinaremos com %d elementos e testaremos com %d elementos\" % (len(treino_x), len(teste_x)))\n",
        "\n",
        "modelo = LinearSVC()\n",
        "modelo.fit(treino_x, treino_y)\n",
        "previsoes = modelo.predict(teste_x)\n",
        "\n",
        "acuracia = accuracy_score(teste_y, previsoes) * 100\n",
        "print(\"A acurácia foi %.2f%%\" % acuracia)"
      ],
      "metadata": {
        "id": "b-4RXw8_w3hN",
        "outputId": "5755d001-43be-400c-9f3c-da19405f3af9",
        "colab": {
          "base_uri": "https://localhost:8080/"
        }
      },
      "execution_count": 17,
      "outputs": [
        {
          "output_type": "stream",
          "name": "stdout",
          "text": [
            "Treinaremos com 74 elementos e testaremos com 25 elementos\n",
            "A acurácia foi 96.00%\n"
          ]
        }
      ]
    },
    {
      "cell_type": "markdown",
      "source": [
        "Agora analisamos um último detalhe acerca de separação, e que envolve o treino_y. Neste conjunto, temos diversos 0 e 1"
      ],
      "metadata": {
        "id": "fJnVqUnT0QCG"
      }
    },
    {
      "cell_type": "code",
      "source": [
        "treino_y.value_counts()"
      ],
      "metadata": {
        "id": "CUVWCgm80BqH",
        "outputId": "9af8ea02-05c6-4b60-dded-73806961531f",
        "colab": {
          "base_uri": "https://localhost:8080/"
        }
      },
      "execution_count": 18,
      "outputs": [
        {
          "output_type": "execute_result",
          "data": {
            "text/plain": [
              "0    49\n",
              "1    25\n",
              "Name: Compra, dtype: int64"
            ]
          },
          "metadata": {},
          "execution_count": 18
        }
      ]
    },
    {
      "cell_type": "markdown",
      "source": [
        "Ou seja, temos 47 pessoas que não compraram um produto no site, representadas por 0, e 27 que compraram, representadas pelo número 1"
      ],
      "metadata": {
        "id": "gxVfQKMh0Y4f"
      }
    },
    {
      "cell_type": "code",
      "source": [
        "teste_y.value_counts()"
      ],
      "metadata": {
        "id": "-WnlMb6h0D7N",
        "outputId": "dc4f54d9-b50d-4054-f264-5dcb2fb9820b",
        "colab": {
          "base_uri": "https://localhost:8080/"
        }
      },
      "execution_count": 19,
      "outputs": [
        {
          "output_type": "execute_result",
          "data": {
            "text/plain": [
              "0    17\n",
              "1     8\n",
              "Name: Compra, dtype: int64"
            ]
          },
          "metadata": {},
          "execution_count": 19
        }
      ]
    },
    {
      "cell_type": "markdown",
      "source": [
        "Vemos que a proporção entre teste e treino possui uma disparidade que pode afetar negativamente como o modelo opera.\n",
        "\n",
        "É importante que a proporção dos nossos dados seja proporcional. Para isso,, inseriremos mais um argumento na separação de dados (train_test_split): o stratify = y, que irá estratificar os dados proporcionalmente de acordo com y"
      ],
      "metadata": {
        "id": "woZeEbvr0jfG"
      }
    },
    {
      "cell_type": "code",
      "source": [
        "from sklearn.model_selection import train_test_split\n",
        "from sklearn.svm import LinearSVC\n",
        "from sklearn.metrics import accuracy_score\n",
        "\n",
        "SEED = 20\n",
        "\n",
        "treino_x, teste_x, treino_y, teste_y = train_test_split(x, y,\n",
        "                                                         random_state = SEED, test_size = 0.25,\n",
        "                                                         stratify = y)\n",
        "print(\"Treinaremos com %d elementos e testaremos com %d elementos\" % (len(treino_x), len(teste_x)))\n",
        "\n",
        "modelo = LinearSVC()\n",
        "modelo.fit(treino_x, treino_y)\n",
        "previsoes = modelo.predict(teste_x)\n",
        "\n",
        "acuracia = accuracy_score(teste_y, previsoes) * 100\n",
        "print(\"A acurácia foi %.2f%%\" % acuracia)"
      ],
      "metadata": {
        "id": "F-fkEfpk06-X",
        "outputId": "e7599d74-6554-4db3-b358-3ebd0df8453a",
        "colab": {
          "base_uri": "https://localhost:8080/"
        }
      },
      "execution_count": 20,
      "outputs": [
        {
          "output_type": "stream",
          "name": "stdout",
          "text": [
            "Treinaremos com 74 elementos e testaremos com 25 elementos\n",
            "A acurácia foi 96.00%\n"
          ]
        }
      ]
    },
    {
      "cell_type": "code",
      "source": [
        "treino_y.value_counts()"
      ],
      "metadata": {
        "id": "2OJ6v__C1D37",
        "outputId": "152e41b8-74d3-4975-8855-5877b069133e",
        "colab": {
          "base_uri": "https://localhost:8080/"
        }
      },
      "execution_count": 21,
      "outputs": [
        {
          "output_type": "execute_result",
          "data": {
            "text/plain": [
              "0    49\n",
              "1    25\n",
              "Name: Compra, dtype: int64"
            ]
          },
          "metadata": {},
          "execution_count": 21
        }
      ]
    },
    {
      "cell_type": "code",
      "source": [
        "teste_y.value_counts()"
      ],
      "metadata": {
        "id": "5a8nhluv1Enz",
        "outputId": "1b03316e-0199-4730-9287-6770d934e308",
        "colab": {
          "base_uri": "https://localhost:8080/"
        }
      },
      "execution_count": 22,
      "outputs": [
        {
          "output_type": "execute_result",
          "data": {
            "text/plain": [
              "0    17\n",
              "1     8\n",
              "Name: Compra, dtype: int64"
            ]
          },
          "metadata": {},
          "execution_count": 22
        }
      ]
    },
    {
      "cell_type": "markdown",
      "source": [
        "Agora com a estratificação dos dados do modelo vemos que a proporção segue de 2 para 1 entre os resultados do teste e treino, a técnica manteve a proporção dos dados com sucesso"
      ],
      "metadata": {
        "id": "4x0l7KKE1J-m"
      }
    }
  ],
  "metadata": {
    "interpreter": {
      "hash": "bf3288ed2828b036a6ff4392f25b55c2f5c8bcbe78b3cbd29a21ec407b552697"
    },
    "kernelspec": {
      "display_name": "Python 3.9.5 64-bit",
      "language": "python",
      "name": "python3"
    },
    "language_info": {
      "codemirror_mode": {
        "name": "ipython",
        "version": 3
      },
      "file_extension": ".py",
      "mimetype": "text/x-python",
      "name": "python",
      "nbconvert_exporter": "python",
      "pygments_lexer": "ipython3",
      "version": "3.10.2"
    },
    "orig_nbformat": 4,
    "colab": {
      "name": "AluraAprMac02.ipynb",
      "provenance": [],
      "include_colab_link": true
    }
  },
  "nbformat": 4,
  "nbformat_minor": 0
}