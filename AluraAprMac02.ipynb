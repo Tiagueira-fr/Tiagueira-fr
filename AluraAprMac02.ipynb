{
 "cells": [
  {
   "cell_type": "markdown",
   "metadata": {},
   "source": [
    "Definindo as matrizes de dados e buscando os dados nos repositorios"
   ]
  },
  {
   "cell_type": "markdown",
   "metadata": {},
   "source": [
    "Aqui definimos a biblioteca pandas como pd\n",
    "definimos tambem a fonte de dados que a maquina usara para analisar. Esse é um arquivo csv n internet então importamos o arquivo por sua url e definimos que os dados sao uma \"uri\""
   ]
  },
  {
   "cell_type": "code",
   "execution_count": 1,
   "metadata": {},
   "outputs": [
    {
     "data": {
      "text/plain": [
       "<bound method NDFrame.head of     home  how_it_works  contact  bought\n",
       "0      1             1        0       0\n",
       "1      1             1        0       0\n",
       "2      1             1        0       0\n",
       "3      1             1        0       0\n",
       "4      1             1        0       0\n",
       "..   ...           ...      ...     ...\n",
       "94     0             0        1       0\n",
       "95     1             1        1       1\n",
       "96     0             0        1       0\n",
       "97     0             1        0       0\n",
       "98     0             0        0       0\n",
       "\n",
       "[99 rows x 4 columns]>"
      ]
     },
     "execution_count": 1,
     "metadata": {},
     "output_type": "execute_result"
    }
   ],
   "source": [
    "import pandas as pd\n",
    "uri = \"https://gist.githubusercontent.com/guilhermesilveira/2d2efa37d66b6c84a722ea627a897ced/raw/10968b997d885cbded1c92938c7a9912ba41c615/tracking.csv\"\n",
    "\n",
    "dados = pd.read_csv ( uri )\n",
    "dados.head"
   ]
  },
  {
   "cell_type": "markdown",
   "metadata": {},
   "source": [
    "Aqui renomeamos as colunas do ingles para o portugues, de modo que seja mais intuitivo"
   ]
  },
  {
   "cell_type": "code",
   "execution_count": 2,
   "metadata": {},
   "outputs": [
    {
     "name": "stdout",
     "output_type": "stream",
     "text": [
      "    Principal  Funcionamento  Contato  Compra\n",
      "0           1              1        0       0\n",
      "1           1              1        0       0\n",
      "2           1              1        0       0\n",
      "3           1              1        0       0\n",
      "4           1              1        0       0\n",
      "..        ...            ...      ...     ...\n",
      "94          0              0        1       0\n",
      "95          1              1        1       1\n",
      "96          0              0        1       0\n",
      "97          0              1        0       0\n",
      "98          0              0        0       0\n",
      "\n",
      "[99 rows x 4 columns]\n"
     ]
    }
   ],
   "source": [
    "mapa = {\n",
    "    \"home\" : \"Principal\", \n",
    "    \"how_it_works\" : \"Funcionamento\",\n",
    "    \"contact\" : \"Contato\",\n",
    "    \"bought\" : \"Compra\" \n",
    "}\n",
    "dados = dados.rename(columns= mapa )\n",
    "print (dados)"
   ]
  },
  {
   "cell_type": "markdown",
   "metadata": {},
   "source": [
    "Aqui definomos os vetores x e y que usaremos para cruzar os dados para a analize.\n",
    "definimos uma lista e a nomeamos como tal."
   ]
  },
  {
   "cell_type": "code",
   "execution_count": 3,
   "metadata": {},
   "outputs": [
    {
     "name": "stdout",
     "output_type": "stream",
     "text": [
      "0     0\n",
      "1     0\n",
      "2     0\n",
      "3     0\n",
      "4     0\n",
      "     ..\n",
      "94    0\n",
      "95    1\n",
      "96    0\n",
      "97    0\n",
      "98    0\n",
      "Name: Compra, Length: 99, dtype: int64\n"
     ]
    }
   ],
   "source": [
    "x = dados [[\"Principal\", \"Funcionamento\", \"Contato\"]]\n",
    "y = dados [\"Compra\"]\n",
    "print (y)"
   ]
  },
  {
   "cell_type": "code",
   "execution_count": 4,
   "metadata": {},
   "outputs": [
    {
     "data": {
      "text/plain": [
       "<bound method NDFrame.head of 0     0\n",
       "1     0\n",
       "2     0\n",
       "3     0\n",
       "4     0\n",
       "     ..\n",
       "94    0\n",
       "95    1\n",
       "96    0\n",
       "97    0\n",
       "98    0\n",
       "Name: Compra, Length: 99, dtype: int64>"
      ]
     },
     "execution_count": 4,
     "metadata": {},
     "output_type": "execute_result"
    }
   ],
   "source": [
    "y = dados[\"Compra\"]\n",
    "y.head"
   ]
  },
  {
   "cell_type": "markdown",
   "metadata": {},
   "source": [
    "dados.shape faz a verificação de quantos elementos temos nos dados e o formato deles"
   ]
  },
  {
   "cell_type": "code",
   "execution_count": 5,
   "metadata": {},
   "outputs": [
    {
     "data": {
      "text/plain": [
       "(99, 4)"
      ]
     },
     "execution_count": 5,
     "metadata": {},
     "output_type": "execute_result"
    }
   ],
   "source": [
    "dados.shape"
   ]
  },
  {
   "cell_type": "markdown",
   "metadata": {},
   "source": [
    "Apos saber quantos dados e o formato deles separaremos em média 25% para testar o algorítimo, e o restante (cerca de 75% dos dados) para o treinamento. Portanto, para treino_x, coletaremos os primeiros 75 elementos (treino_x = x[:75]). Podemos utilizar treino_x.shape para verificar se o número de elementos está de fato correto:"
   ]
  },
  {
   "cell_type": "code",
   "execution_count": 6,
   "metadata": {},
   "outputs": [
    {
     "name": "stdout",
     "output_type": "stream",
     "text": [
      "Treino com 75 elementos e teste com 24 elementos\n"
     ]
    }
   ],
   "source": [
    "treino_x = x [ :75 ]\n",
    "treino_y = y [ :75 ]\n",
    "\n",
    "teste_x = x [ 75: ]\n",
    "teste_y = y [ 75: ]\n",
    "\n",
    "print (\"Treino com %d elementos e teste com %d elementos\" % ( len(treino_x), len(teste_x)))\n",
    "\n"
   ]
  },
  {
   "cell_type": "markdown",
   "metadata": {},
   "source": [
    "Inicio do treino do modelo"
   ]
  },
  {
   "cell_type": "markdown",
   "metadata": {},
   "source": [
    "Aqui importamos o LinearSVC do sklearn.svm e treinaremos o modelo com os dados treino_x e treino_y"
   ]
  },
  {
   "cell_type": "code",
   "execution_count": null,
   "metadata": {},
   "outputs": [],
   "source": [
    "from sklearn.svm import LinearSVC\n",
    "\n",
    "modelo = LinearSVC()\n",
    "modelo.fit( treino_x, treino_y )\n",
    "    "
   ]
  }
 ],
 "metadata": {
  "interpreter": {
   "hash": "bf3288ed2828b036a6ff4392f25b55c2f5c8bcbe78b3cbd29a21ec407b552697"
  },
  "kernelspec": {
   "display_name": "Python 3.9.5 64-bit",
   "language": "python",
   "name": "python3"
  },
  "language_info": {
   "codemirror_mode": {
    "name": "ipython",
    "version": 3
   },
   "file_extension": ".py",
   "mimetype": "text/x-python",
   "name": "python",
   "nbconvert_exporter": "python",
   "pygments_lexer": "ipython3",
   "version": "3.10.2"
  },
  "orig_nbformat": 4
 },
 "nbformat": 4,
 "nbformat_minor": 2
}
